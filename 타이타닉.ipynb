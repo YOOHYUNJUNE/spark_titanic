{
 "cells": [
  {
   "cell_type": "markdown",
   "id": "9e8b497a",
   "metadata": {},
   "source": [
    "## spark로 타이타닉 데이터 다뤄보기"
   ]
  },
  {
   "cell_type": "code",
   "execution_count": 77,
   "id": "15469f14-c596-4dab-8d64-955cf57fb67a",
   "metadata": {},
   "outputs": [
    {
     "data": {
      "text/html": [
       "\n",
       "            <div>\n",
       "                <p><b>SparkSession - in-memory</b></p>\n",
       "                \n",
       "        <div>\n",
       "            <p><b>SparkContext</b></p>\n",
       "\n",
       "            <p><a href=\"http://DESKTOP-N2KSE8B.mshome.net:4040\">Spark UI</a></p>\n",
       "\n",
       "            <dl>\n",
       "              <dt>Version</dt>\n",
       "                <dd><code>v3.5.0</code></dd>\n",
       "              <dt>Master</dt>\n",
       "                <dd><code>local[*]</code></dd>\n",
       "              <dt>AppName</dt>\n",
       "                <dd><code>spark-dataframe</code></dd>\n",
       "            </dl>\n",
       "        </div>\n",
       "        \n",
       "            </div>\n",
       "        "
      ],
      "text/plain": [
       "<pyspark.sql.session.SparkSession at 0x1b1e25909d0>"
      ]
     },
     "execution_count": 77,
     "metadata": {},
     "output_type": "execute_result"
    }
   ],
   "source": [
    "from pyspark.sql import SparkSession\n",
    "spark = SparkSession.builder.appName(\"spark-dataframe\").getOrCreate()\n",
    "spark"
   ]
  },
  {
   "cell_type": "code",
   "execution_count": 78,
   "id": "62d783f1-80fe-4a2a-9dca-2b4c434f038c",
   "metadata": {},
   "outputs": [],
   "source": [
    "filepath = \"titanic_data.csv\"\n",
    "\n",
    "# inferSchema=True: 컬럼 타입을 자동 추론\n",
    "titanic_sdf = spark.read.csv(filepath, inferSchema=True, header=True)"
   ]
  },
  {
   "cell_type": "code",
   "execution_count": 79,
   "id": "b663e3d3-5e09-4a03-9f67-3e2b0f060737",
   "metadata": {},
   "outputs": [],
   "source": [
    "import pyspark.sql.functions as F"
   ]
  },
  {
   "cell_type": "code",
   "execution_count": 80,
   "id": "51df6d38",
   "metadata": {},
   "outputs": [
    {
     "data": {
      "text/plain": [
       "12"
      ]
     },
     "execution_count": 80,
     "metadata": {},
     "output_type": "execute_result"
    }
   ],
   "source": [
    "len(titanic_sdf.columns)"
   ]
  },
  {
   "cell_type": "code",
   "execution_count": 81,
   "id": "c320c76f",
   "metadata": {},
   "outputs": [
    {
     "data": {
      "text/plain": [
       "891"
      ]
     },
     "execution_count": 81,
     "metadata": {},
     "output_type": "execute_result"
    }
   ],
   "source": [
    "titanic_sdf.count()"
   ]
  },
  {
   "cell_type": "code",
   "execution_count": 82,
   "id": "d596a1f2-92e2-426f-9a50-67c57b48c3b0",
   "metadata": {},
   "outputs": [
    {
     "name": "stdout",
     "output_type": "stream",
     "text": [
      "+-----------+--------+------+--------------------+------+----+-----+-----+----------------+-------+-----+--------+\n",
      "|PassengerId|Survived|Pclass|                Name|   Sex| Age|SibSp|Parch|          Ticket|   Fare|Cabin|Embarked|\n",
      "+-----------+--------+------+--------------------+------+----+-----+-----+----------------+-------+-----+--------+\n",
      "|          1|       0|     3|Braund, Mr. Owen ...|  male|22.0|    1|    0|       A/5 21171|   7.25| NULL|       S|\n",
      "|          2|       1|     1|Cumings, Mrs. Joh...|female|38.0|    1|    0|        PC 17599|71.2833|  C85|       C|\n",
      "|          3|       1|     3|Heikkinen, Miss. ...|female|26.0|    0|    0|STON/O2. 3101282|  7.925| NULL|       S|\n",
      "+-----------+--------+------+--------------------+------+----+-----+-----+----------------+-------+-----+--------+\n",
      "only showing top 3 rows\n",
      "\n"
     ]
    }
   ],
   "source": [
    "titanic_sdf.show(3)"
   ]
  },
  {
   "cell_type": "code",
   "execution_count": 83,
   "id": "0eb5a8d7-83c3-4728-a578-fb5305654a6e",
   "metadata": {},
   "outputs": [
    {
     "name": "stdout",
     "output_type": "stream",
     "text": [
      "root\n",
      " |-- PassengerId: integer (nullable = true)\n",
      " |-- Survived: integer (nullable = true)\n",
      " |-- Pclass: integer (nullable = true)\n",
      " |-- Name: string (nullable = true)\n",
      " |-- Sex: string (nullable = true)\n",
      " |-- Age: double (nullable = true)\n",
      " |-- SibSp: integer (nullable = true)\n",
      " |-- Parch: integer (nullable = true)\n",
      " |-- Ticket: string (nullable = true)\n",
      " |-- Fare: double (nullable = true)\n",
      " |-- Cabin: string (nullable = true)\n",
      " |-- Embarked: string (nullable = true)\n",
      "\n"
     ]
    }
   ],
   "source": [
    "titanic_sdf.printSchema()"
   ]
  },
  {
   "cell_type": "code",
   "execution_count": 84,
   "id": "a3f03840-2d49-46ad-9ab8-cdf77d969ce4",
   "metadata": {},
   "outputs": [
    {
     "name": "stdout",
     "output_type": "stream",
     "text": [
      "root\n",
      " |-- PassengerId: integer (nullable = true)\n",
      " |-- Survived: integer (nullable = true)\n",
      " |-- Pclass: integer (nullable = true)\n",
      " |-- Sex: string (nullable = true)\n",
      " |-- Age: double (nullable = true)\n",
      " |-- SibSp: integer (nullable = true)\n",
      " |-- Parch: integer (nullable = true)\n",
      " |-- Fare: double (nullable = true)\n",
      " |-- Embarked: string (nullable = true)\n",
      "\n"
     ]
    }
   ],
   "source": [
    "# 이름, 티켓, 객실번호 컬럼 제외\n",
    "df = titanic_sdf.drop(F.col(\"Name\"))\n",
    "df = df.drop(F.col(\"Ticket\"))\n",
    "df = df.drop(F.col(\"Cabin\"))\n",
    "df.printSchema()"
   ]
  },
  {
   "cell_type": "code",
   "execution_count": 85,
   "id": "c79d189c-858c-42b6-a878-034cae0bdae8",
   "metadata": {},
   "outputs": [
    {
     "name": "stdout",
     "output_type": "stream",
     "text": [
      "+--------+--------+--------+------+----+-------------+-----------+-------+--------+\n",
      "|승객번호|생존여부|좌석등급|  성별|나이|형제,배우자수|부모,자녀수|   요금|탑승항구|\n",
      "+--------+--------+--------+------+----+-------------+-----------+-------+--------+\n",
      "|       1|       0|       3|  male|22.0|            1|          0|   7.25|       S|\n",
      "|       2|       1|       1|female|38.0|            1|          0|71.2833|       C|\n",
      "|       3|       1|       3|female|26.0|            0|          0|  7.925|       S|\n",
      "|       4|       1|       1|female|35.0|            1|          0|   53.1|       S|\n",
      "|       5|       0|       3|  male|35.0|            0|          0|   8.05|       S|\n",
      "+--------+--------+--------+------+----+-------------+-----------+-------+--------+\n",
      "only showing top 5 rows\n",
      "\n"
     ]
    }
   ],
   "source": [
    "# 컬럼명 변경\n",
    "df = df.withColumnRenamed(\"PassengerId\", \"승객번호\")\n",
    "df = df.withColumnRenamed(\"Survived\", \"생존여부\")\n",
    "df = df.withColumnRenamed(\"Pclass\", \"좌석등급\")\n",
    "df = df.withColumnRenamed(\"Sex\", \"성별\")\n",
    "df = df.withColumnRenamed(\"Age\", \"나이\")\n",
    "df = df.withColumnRenamed(\"SibSp\", \"형제,배우자수\")\n",
    "df = df.withColumnRenamed(\"Parch\", \"부모,자녀수\")\n",
    "df = df.withColumnRenamed(\"Fare\", \"요금\")\n",
    "df = df.withColumnRenamed(\"Embarked\", \"탑승항구\")\n",
    "\n",
    "df.show(5)"
   ]
  },
  {
   "cell_type": "code",
   "execution_count": 86,
   "id": "742702cb-48b1-4b72-8fd9-39ef57548d2e",
   "metadata": {},
   "outputs": [
    {
     "name": "stdout",
     "output_type": "stream",
     "text": [
      "+--------+--------+--------+----+----+-------------+-----------+-------+----------+\n",
      "|승객번호|생존여부|좌석등급|성별|나이|형제,배우자수|부모,자녀수|   요금|  탑승항구|\n",
      "+--------+--------+--------+----+----+-------------+-----------+-------+----------+\n",
      "|       1|       0|       3|  남|22.0|            1|          0|   7.25|사우스햄튼|\n",
      "|       2|       1|       1|  여|38.0|            1|          0|71.2833|  셰르부르|\n",
      "|       3|       1|       3|  여|26.0|            0|          0|  7.925|사우스햄튼|\n",
      "|       4|       1|       1|  여|35.0|            1|          0|   53.1|사우스햄튼|\n",
      "|       5|       0|       3|  남|35.0|            0|          0|   8.05|사우스햄튼|\n",
      "+--------+--------+--------+----+----+-------------+-----------+-------+----------+\n",
      "only showing top 5 rows\n",
      "\n"
     ]
    }
   ],
   "source": [
    "# otherwise(F.col()): 해당 데이터 아닐 경우 기존의 값을 유지\n",
    "df = df.withColumn(\"탑승항구\", F.when(F.col(\"탑승항구\") == \"S\", \"사우스햄튼\").otherwise(F.col(\"탑승항구\")))\n",
    "df = df.withColumn(\"탑승항구\", F.when(F.col(\"탑승항구\") == \"C\", \"셰르부르\").otherwise(F.col(\"탑승항구\")))\n",
    "df = df.withColumn(\"탑승항구\", F.when(F.col(\"탑승항구\") == \"Q\", \"퀸즈타운\").otherwise(F.col(\"탑승항구\")))\n",
    "df = df.withColumn(\"성별\", F.when(F.col(\"성별\") == \"male\", \"남\").otherwise(F.col(\"성별\")))\n",
    "df = df.withColumn(\"성별\", F.when(F.col(\"성별\") == \"female\", \"여\").otherwise(F.col(\"성별\")))\n",
    "\n",
    "df.show(5)"
   ]
  },
  {
   "cell_type": "markdown",
   "id": "be0fcad0-0454-43d7-8b54-9565d361a82c",
   "metadata": {},
   "source": [
    "# 전체 평균"
   ]
  },
  {
   "cell_type": "code",
   "execution_count": 107,
   "id": "93bcf5a5-b6f2-4eb0-b9e6-4de1cae1111d",
   "metadata": {},
   "outputs": [
    {
     "name": "stdout",
     "output_type": "stream",
     "text": [
      "+------------------+-----------------+-----------------+------------------+-------------------+----------------+\n",
      "|     avg(생존여부)|    avg(좌석등급)|        avg(나이)|avg(형제,배우자수)|   avg(부모,자녀수)|       avg(요금)|\n",
      "+------------------+-----------------+-----------------+------------------+-------------------+----------------+\n",
      "|0.3838383838383838|2.308641975308642|29.69911764705882|0.5230078563411896|0.38159371492704824|32.2042079685746|\n",
      "+------------------+-----------------+-----------------+------------------+-------------------+----------------+\n",
      "\n"
     ]
    }
   ],
   "source": [
    "df_mean = df.groupBy().agg(\n",
    "    F.mean(\"생존여부\"), F.mean(\"좌석등급\"), F.mean(\"나이\"), F.mean(\"형제,배우자수\"), F.mean(\"부모,자녀수\"), F.mean(\"요금\"))\n",
    "\n",
    "df_mean.show()"
   ]
  },
  {
   "cell_type": "code",
   "execution_count": 108,
   "id": "e5e641df",
   "metadata": {},
   "outputs": [
    {
     "name": "stdout",
     "output_type": "stream",
     "text": [
      "+-------------+-------------+---------+------------------+----------------+---------+\n",
      "|avg(생존여부)|avg(좌석등급)|avg(나이)|avg(형제,배우자수)|avg(부모,자녀수)|avg(요금)|\n",
      "+-------------+-------------+---------+------------------+----------------+---------+\n",
      "|          0.4|          2.3|     29.7|               0.5|             0.4|     32.2|\n",
      "+-------------+-------------+---------+------------------+----------------+---------+\n",
      "\n"
     ]
    }
   ],
   "source": [
    "# 스파크의 round는 해당 자리까지 반올림\n",
    "df_mean2 = df_mean.withColumn(\"avg(생존여부)\", round(\"avg(생존여부)\", 1))\n",
    "df_mean2 = df_mean2.withColumn(\"avg(좌석등급)\", round(\"avg(좌석등급)\", 1))\n",
    "df_mean2 = df_mean2.withColumn(\"avg(나이)\", round(\"avg(나이)\", 1))\n",
    "df_mean2 = df_mean2.withColumn(\"avg(형제,배우자수)\", round(\"avg(형제,배우자수)\", 1))\n",
    "df_mean2 = df_mean2.withColumn(\"avg(부모,자녀수)\", round(\"avg(부모,자녀수)\", 1))\n",
    "df_mean2 = df_mean2.withColumn(\"avg(요금)\", round(\"avg(요금)\", 1))\n",
    "\n",
    "df_mean2.show()"
   ]
  },
  {
   "cell_type": "code",
   "execution_count": 109,
   "id": "e7a687c1-ece5-4124-8505-2b375e1ca568",
   "metadata": {},
   "outputs": [
    {
     "name": "stdout",
     "output_type": "stream",
     "text": [
      "+---------+---------+------------------+------------------+----------------+----------------+---------+---------+\n",
      "|max(나이)|min(나이)|max(형제,배우자수)|min(형제,배우자수)|max(부모,자녀수)|min(부모,자녀수)|max(요금)|min(요금)|\n",
      "+---------+---------+------------------+------------------+----------------+----------------+---------+---------+\n",
      "|     80.0|     0.42|                 8|                 0|               6|               0| 512.3292|      0.0|\n",
      "+---------+---------+------------------+------------------+----------------+----------------+---------+---------+\n",
      "\n"
     ]
    }
   ],
   "source": [
    "# 전체 최대, 최소\n",
    "df_mm = df.groupBy().agg(\n",
    "    F.max(\"나이\"), F.min(\"나이\"), F.max(\"형제,배우자수\"), F.min(\"형제,배우자수\"), F.max(\"부모,자녀수\"), F.min(\"부모,자녀수\"), F.max(\"요금\"), F.min(\"요금\"))\n",
    "\n",
    "df_mm.show()"
   ]
  },
  {
   "cell_type": "code",
   "execution_count": 93,
   "id": "0ecb15e2-2e9b-4b6b-980a-636f8a2a919c",
   "metadata": {},
   "outputs": [
    {
     "name": "stdout",
     "output_type": "stream",
     "text": [
      "+--------+--------+--------+----+----+-------------+-----------+-------+----------+------+\n",
      "|승객번호|생존여부|좌석등급|성별|나이|형제,배우자수|부모,자녀수|   요금|  탑승항구|나이대|\n",
      "+--------+--------+--------+----+----+-------------+-----------+-------+----------+------+\n",
      "|       1|       0|       3|  남|22.0|            1|          0|   7.25|사우스햄튼|  20대|\n",
      "|       2|       1|       1|  여|38.0|            1|          0|71.2833|  셰르부르|  30대|\n",
      "|       3|       1|       3|  여|26.0|            0|          0|  7.925|사우스햄튼|  20대|\n",
      "|       4|       1|       1|  여|35.0|            1|          0|   53.1|사우스햄튼|  30대|\n",
      "|       5|       0|       3|  남|35.0|            0|          0|   8.05|사우스햄튼|  30대|\n",
      "+--------+--------+--------+----+----+-------------+-----------+-------+----------+------+\n",
      "only showing top 5 rows\n",
      "\n"
     ]
    }
   ],
   "source": [
    "# 나이대 만들기\n",
    "df_age = df.withColumn(\"나이대\", F.when(F.col(\"나이\") < 10, \"0대\")\n",
    "            .when((F.col(\"나이\") >= 10) & (F.col(\"나이\") < 20), \"10대\")\n",
    "            .when((F.col(\"나이\") >= 20) & (F.col(\"나이\") < 30), \"20대\")\n",
    "            .when((F.col(\"나이\") >= 30) & (F.col(\"나이\") < 40), \"30대\")\n",
    "            .when((F.col(\"나이\") >= 40) & (F.col(\"나이\") < 50), \"40대\")\n",
    "            .when((F.col(\"나이\") >= 50) & (F.col(\"나이\") < 60), \"50대\")\n",
    "            .when((F.col(\"나이\") >= 60) & (F.col(\"나이\") < 70), \"60대\")\n",
    "            .when((F.col(\"나이\") >= 70) & (F.col(\"나이\") < 80), \"70대\")\n",
    "            .when((F.col(\"나이\") >= 80) & (F.col(\"나이\") < 90), \"80대\").otherwise(\"null\"))\n",
    "\n",
    "df_age.show(5)"
   ]
  },
  {
   "cell_type": "code",
   "execution_count": 95,
   "id": "eb88a467-255e-422f-8fb5-d7f8be50746a",
   "metadata": {},
   "outputs": [
    {
     "name": "stdout",
     "output_type": "stream",
     "text": [
      "62\n",
      "102\n",
      "220\n",
      "167\n",
      "89\n",
      "48\n",
      "19\n",
      "6\n",
      "1\n"
     ]
    }
   ],
   "source": [
    "print(df_age.filter(F.col(\"나이대\") == \"0대\").count())\n",
    "print(df_age.filter(F.col(\"나이대\") == \"10대\").count())\n",
    "print(df_age.filter(F.col(\"나이대\") == \"20대\").count())\n",
    "print(df_age.filter(F.col(\"나이대\") == \"30대\").count())\n",
    "print(df_age.filter(F.col(\"나이대\") == \"40대\").count())\n",
    "print(df_age.filter(F.col(\"나이대\") == \"50대\").count())\n",
    "print(df_age.filter(F.col(\"나이대\") == \"60대\").count())\n",
    "print(df_age.filter(F.col(\"나이대\") == \"70대\").count())\n",
    "print(df_age.filter(F.col(\"나이대\") == \"80대\").count())"
   ]
  },
  {
   "cell_type": "code",
   "execution_count": 96,
   "id": "f64275d3-3a46-4cb3-b21e-acb5f14ae114",
   "metadata": {},
   "outputs": [
    {
     "name": "stdout",
     "output_type": "stream",
     "text": [
      "+------+-------------------+------------------+-------------------+-------------------+------------------+--------+\n",
      "|나이대|      avg(생존여부)|     avg(좌석등급)| avg(형제,배우자수)|   avg(부모,자녀수)|         avg(요금)|count(1)|\n",
      "+------+-------------------+------------------+-------------------+-------------------+------------------+--------+\n",
      "|  80대|                1.0|               1.0|                0.0|                0.0|              30.0|       1|\n",
      "|  20대|               0.35|              2.45|0.32272727272727275|               0.25|27.278937272727294|     220|\n",
      "|  50대| 0.4166666666666667|            1.5625| 0.2916666666666667| 0.2708333333333333| 47.93333333333334|      48|\n",
      "|  10대| 0.4019607843137255|2.4705882352941178| 0.6666666666666666|0.47058823529411764| 32.53513235294118|     102|\n",
      "|  70대|                0.0|1.8333333333333333|0.16666666666666666|0.16666666666666666|30.197233333333333|       6|\n",
      "|  40대|0.38202247191011235|1.9662921348314606| 0.3707865168539326|0.47191011235955055| 38.00229662921349|      89|\n",
      "|  60대| 0.3157894736842105|1.4736842105263157| 0.2631578947368421| 0.3684210526315789| 48.36754210526315|      19|\n",
      "|  30대|  0.437125748502994|2.1137724550898205| 0.3532934131736527|0.32934131736526945|40.377294011976055|     167|\n",
      "|   0대| 0.6129032258064516| 2.629032258064516| 1.8548387096774193|  1.403225806451613| 30.57667903225807|      62|\n",
      "|  null| 0.2937853107344633| 2.598870056497175| 0.5649717514124294| 0.1807909604519774|22.158566666666673|     177|\n",
      "+------+-------------------+------------------+-------------------+-------------------+------------------+--------+\n",
      "\n"
     ]
    }
   ],
   "source": [
    "df_age = df_age.groupBy(\"나이대\").agg(\n",
    "    F.mean(\"생존여부\"), F.mean(\"좌석등급\"), F.mean(\"형제,배우자수\"), F.mean(\"부모,자녀수\"), F.mean(\"요금\"),\n",
    "    F.count(\"*\")\n",
    ")\n",
    "\n",
    "df_age.show()"
   ]
  },
  {
   "cell_type": "code",
   "execution_count": 97,
   "id": "81405b40-30b9-4615-9a86-003f4fed14b9",
   "metadata": {},
   "outputs": [
    {
     "name": "stdout",
     "output_type": "stream",
     "text": [
      "+------+------+------------+-----------------+---------------+--------+------+\n",
      "|나이대|생존률|좌석등급평균|형제,배우자수평균|부모,자녀수평균|요금평균|인원수|\n",
      "+------+------+------------+-----------------+---------------+--------+------+\n",
      "|   0대|   0.6|         2.6|              1.9|            1.4|    30.6|    62|\n",
      "|  10대|   0.4|         2.5|              0.7|            0.5|    32.5|   102|\n",
      "|  20대|   0.4|         2.5|              0.3|            0.3|    27.3|   220|\n",
      "|  30대|   0.4|         2.1|              0.4|            0.3|    40.4|   167|\n",
      "|  40대|   0.4|         2.0|              0.4|            0.5|    38.0|    89|\n",
      "|  50대|   0.4|         1.6|              0.3|            0.3|    47.9|    48|\n",
      "|  60대|   0.3|         1.5|              0.3|            0.4|    48.4|    19|\n",
      "|  70대|   0.0|         1.8|              0.2|            0.2|    30.2|     6|\n",
      "|  80대|   1.0|         1.0|              0.0|            0.0|    30.0|     1|\n",
      "|  null|   0.3|         2.6|              0.6|            0.2|    22.2|   177|\n",
      "+------+------+------------+-----------------+---------------+--------+------+\n",
      "\n"
     ]
    }
   ],
   "source": [
    "# 컬럼명 변경\n",
    "df_age2 = df_age.withColumnRenamed(\"avg(생존여부)\", \"생존률\")\n",
    "df_age2 = df_age2.withColumnRenamed(\"avg(좌석등급)\", \"좌석등급평균\")\n",
    "df_age2 = df_age2.withColumnRenamed(\"avg(형제,배우자수)\", \"형제,배우자수평균\")\n",
    "df_age2 = df_age2.withColumnRenamed(\"avg(부모,자녀수)\", \"부모,자녀수평균\")\n",
    "df_age2 = df_age2.withColumnRenamed(\"avg(요금)\", \"요금평균\")\n",
    "df_age2 = df_age2.withColumnRenamed(\"count(1)\", \"인원수\")\n",
    "\n",
    "# 데이터 타입 변환 (생존률: 반올림 오류가 나는 경우)\n",
    "from pyspark.sql.functions import col\n",
    "df_age2 = df_age2.withColumn(\"생존률\", col(\"생존률\").cast(\"double\"))\n",
    " \n",
    "# 반올림\n",
    "df_age2 = df_age2.withColumn(\"생존률\", round(col(\"생존률\"), 1))\n",
    "df_age2 = df_age2.withColumn(\"좌석등급평균\", round(\"좌석등급평균\", 1))\n",
    "df_age2 = df_age2.withColumn(\"형제,배우자수평균\", round(\"형제,배우자수평균\", 1))\n",
    "df_age2 = df_age2.withColumn(\"부모,자녀수평균\", round(\"부모,자녀수평균\", 1))\n",
    "df_age2 = df_age2.withColumn(\"요금평균\", round(\"요금평균\", 1))\n",
    "\n",
    "df_age2 = df_age2.orderBy(\"나이대\")\n",
    "df_age2.show()"
   ]
  },
  {
   "cell_type": "markdown",
   "id": "2aba1770-05c0-4f34-928d-9798a820fb0c",
   "metadata": {},
   "source": [
    "# 나이 불명"
   ]
  },
  {
   "cell_type": "code",
   "execution_count": 106,
   "id": "bf7f5413",
   "metadata": {},
   "outputs": [
    {
     "name": "stdout",
     "output_type": "stream",
     "text": [
      "+--------+--------+--------+----+----+-------------+-----------+------+----------+\n",
      "|승객번호|생존여부|좌석등급|성별|나이|형제,배우자수|부모,자녀수|  요금|  탑승항구|\n",
      "+--------+--------+--------+----+----+-------------+-----------+------+----------+\n",
      "|       6|       0|       3|  남|NULL|            0|          0|8.4583|  퀸즈타운|\n",
      "|      18|       1|       2|  남|NULL|            0|          0|  13.0|사우스햄튼|\n",
      "|      20|       1|       3|  여|NULL|            0|          0| 7.225|  셰르부르|\n",
      "|      27|       0|       3|  남|NULL|            0|          0| 7.225|  셰르부르|\n",
      "|      29|       1|       3|  여|NULL|            0|          0|7.8792|  퀸즈타운|\n",
      "+--------+--------+--------+----+----+-------------+-----------+------+----------+\n",
      "only showing top 5 rows\n",
      "\n",
      "177\n"
     ]
    }
   ],
   "source": [
    "df_null = df.filter(df['나이'].isNull())\n",
    "df_null.show(5)\n",
    "print(df_null.count())"
   ]
  },
  {
   "cell_type": "code",
   "execution_count": 73,
   "id": "cdf6eca4-e75e-4931-8ed4-7349702a4309",
   "metadata": {},
   "outputs": [
    {
     "name": "stdout",
     "output_type": "stream",
     "text": [
      "+----+------+------------+-----------------+---------------+--------+\n",
      "|나이|생존률|좌석등급평균|형제,배우자수평균|부모,자녀수평균|요금평균|\n",
      "+----+------+------------+-----------------+---------------+--------+\n",
      "|NULL|   0.3|         2.6|              0.6|            0.2|    22.2|\n",
      "+----+------+------------+-----------------+---------------+--------+\n",
      "\n"
     ]
    }
   ],
   "source": [
    "df_null = df_null.groupBy(\"나이\").agg(\n",
    "    F.mean(\"생존여부\"), F.mean(\"좌석등급\"), F.mean(\"형제,배우자수\"), F.mean(\"부모,자녀수\"), F.mean(\"요금\"))\n",
    "\n",
    "# 컬럼명 변경\n",
    "df_null = df_null.withColumnRenamed(\"avg(생존여부)\", \"생존률\")\n",
    "df_null = df_null.withColumnRenamed(\"avg(좌석등급)\", \"좌석등급평균\")\n",
    "df_null = df_null.withColumnRenamed(\"avg(형제,배우자수)\", \"형제,배우자수평균\")\n",
    "df_null = df_null.withColumnRenamed(\"avg(부모,자녀수)\", \"부모,자녀수평균\")\n",
    "df_null = df_null.withColumnRenamed(\"avg(요금)\", \"요금평균\")\n",
    "\n",
    "# 반올림\n",
    "df_null = df_null.withColumn(\"생존률\", round(\"생존률\", 1))\n",
    "df_null = df_null.withColumn(\"좌석등급평균\", round(\"좌석등급평균\", 1))\n",
    "df_null = df_null.withColumn(\"형제,배우자수평균\", round(\"형제,배우자수평균\", 1))\n",
    "df_null = df_null.withColumn(\"부모,자녀수평균\", round(\"부모,자녀수평균\", 1))\n",
    "df_null = df_null.withColumn(\"요금평균\", round(\"요금평균\", 1))\n",
    "\n",
    "df_null.show()"
   ]
  },
  {
   "cell_type": "code",
   "execution_count": 74,
   "id": "a82d321d-3e8b-486b-9881-1730c6ca49e3",
   "metadata": {},
   "outputs": [
    {
     "name": "stdout",
     "output_type": "stream",
     "text": [
      "+----------+-------------------+------------------+-------------------+-------------------+------------------+\n",
      "|  탑승항구|      avg(생존여부)|     avg(좌석등급)| avg(형제,배우자수)|   avg(부모,자녀수)|         avg(요금)|\n",
      "+----------+-------------------+------------------+-------------------+-------------------+------------------+\n",
      "|사우스햄튼|0.33695652173913043|2.3509316770186337| 0.5714285714285714|0.41304347826086957| 27.07981180124218|\n",
      "|      NULL|                1.0|               1.0|                0.0|                0.0|              80.0|\n",
      "|  셰르부르| 0.5535714285714286|1.8869047619047619| 0.3869047619047619| 0.3630952380952381| 59.95414404761905|\n",
      "|  퀸즈타운|0.38961038961038963| 2.909090909090909|0.42857142857142855|0.16883116883116883|13.276029870129872|\n",
      "+----------+-------------------+------------------+-------------------+-------------------+------------------+\n",
      "\n"
     ]
    }
   ],
   "source": [
    "# Embarked\n",
    "\n",
    "df_emb = df.groupBy(\"탑승항구\").agg(\n",
    "    F.mean(\"생존여부\"), F.mean(\"좌석등급\"), F.mean(\"형제,배우자수\"), F.mean(\"부모,자녀수\"), F.mean(\"요금\"))\n",
    "\n",
    "df_emb.show()"
   ]
  },
  {
   "cell_type": "code",
   "execution_count": 75,
   "id": "fe17a53c",
   "metadata": {},
   "outputs": [
    {
     "name": "stdout",
     "output_type": "stream",
     "text": [
      "+----------+------+------------+-----------------+---------------+--------+\n",
      "|  탑승항구|생존률|좌석등급평균|형제,배우자수평균|부모,자녀수평균|요금평균|\n",
      "+----------+------+------------+-----------------+---------------+--------+\n",
      "|      NULL|   1.0|         1.0|              0.0|            0.0|    80.0|\n",
      "|  셰르부르|   0.6|         1.9|              0.4|            0.4|    60.0|\n",
      "|  퀸즈타운|   0.4|         2.9|              0.4|            0.2|    13.3|\n",
      "|사우스햄튼|   0.3|         2.4|              0.6|            0.4|    27.1|\n",
      "+----------+------+------------+-----------------+---------------+--------+\n",
      "\n"
     ]
    }
   ],
   "source": [
    "# 컬럼명 변경\n",
    "df_emb2 = df_emb.withColumnRenamed(\"avg(생존여부)\", \"생존률\")\n",
    "df_emb2 = df_emb2.withColumnRenamed(\"avg(좌석등급)\", \"좌석등급평균\")\n",
    "df_emb2 = df_emb2.withColumnRenamed(\"avg(형제,배우자수)\", \"형제,배우자수평균\")\n",
    "df_emb2 = df_emb2.withColumnRenamed(\"avg(부모,자녀수)\", \"부모,자녀수평균\")\n",
    "df_emb2 = df_emb2.withColumnRenamed(\"avg(요금)\", \"요금평균\")\n",
    "\n",
    "# 반올림\n",
    "df_emb2 = df_emb2.withColumn(\"생존률\", round(\"생존률\", 1))\n",
    "df_emb2 = df_emb2.withColumn(\"좌석등급평균\", round(\"좌석등급평균\", 1))\n",
    "df_emb2 = df_emb2.withColumn(\"형제,배우자수평균\", round(\"형제,배우자수평균\", 1))\n",
    "df_emb2 = df_emb2.withColumn(\"부모,자녀수평균\", round(\"부모,자녀수평균\", 1))\n",
    "df_emb2 = df_emb2.withColumn(\"요금평균\", round(\"요금평균\", 1))\n",
    "\n",
    "df_emb2 = df_emb2.orderBy(F.desc(\"생존률\"))\n",
    "df_emb = df_emb2\n",
    "df_emb.show()"
   ]
  },
  {
   "cell_type": "code",
   "execution_count": 76,
   "id": "e890129b",
   "metadata": {},
   "outputs": [],
   "source": [
    "spark.stop()"
   ]
  },
  {
   "cell_type": "code",
   "execution_count": null,
   "id": "a174bac0-81dd-4e37-8e8b-4a160f902fc1",
   "metadata": {},
   "outputs": [],
   "source": []
  },
  {
   "cell_type": "code",
   "execution_count": null,
   "id": "36a9c0fd",
   "metadata": {},
   "outputs": [],
   "source": []
  }
 ],
 "metadata": {
  "kernelspec": {
   "display_name": "Python 3 (ipykernel)",
   "language": "python",
   "name": "python3"
  },
  "language_info": {
   "codemirror_mode": {
    "name": "ipython",
    "version": 3
   },
   "file_extension": ".py",
   "mimetype": "text/x-python",
   "name": "python",
   "nbconvert_exporter": "python",
   "pygments_lexer": "ipython3",
   "version": "3.11.4"
  }
 },
 "nbformat": 4,
 "nbformat_minor": 5
}
